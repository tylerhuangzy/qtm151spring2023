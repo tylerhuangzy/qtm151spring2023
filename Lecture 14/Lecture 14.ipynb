{
 "cells": [
  {
   "attachments": {},
   "cell_type": "markdown",
   "metadata": {},
   "source": [
    "# <span style=\"color:darkblue\"> Lecture 14 - Aggregating Data </span>\n",
    "\n",
    "<font size = \"5\">\n",
    "\n",
    "In the previous class we covered\n",
    "\n",
    "- Missing values\n",
    "- The basics of data cleaning\n",
    "\n",
    "This class we will talk about \n",
    "- Computing aggregate statistics by group\n",
    "- Introduction to merging"
   ]
  },
  {
   "attachments": {},
   "cell_type": "markdown",
   "metadata": {},
   "source": [
    "# <span style=\"color:darkblue\"> I. Import Libraries and Data </span>\n"
   ]
  },
  {
   "attachments": {},
   "cell_type": "markdown",
   "metadata": {},
   "source": [
    "<font size = \"5\">\n",
    "Key libraries"
   ]
  },
  {
   "cell_type": "code",
   "execution_count": 1,
   "metadata": {},
   "outputs": [],
   "source": [
    "import numpy as np\n",
    "import pandas as pd\n",
    "import matplotlib.pyplot as plt"
   ]
  },
  {
   "attachments": {},
   "cell_type": "markdown",
   "metadata": {},
   "source": [
    "<font size = \"5\">\n",
    "\n",
    "Read dataset on car racing circuits\n",
    "\n",
    "- https://en.wikipedia.org/wiki/Formula_One <br>\n",
    "- [See Data Source](https://www.kaggle.com/datasets/rohanrao/formula-1-world-championship-1950-2020)"
   ]
  },
  {
   "cell_type": "code",
   "execution_count": 2,
   "metadata": {},
   "outputs": [],
   "source": [
    "results = pd.read_csv(\"data_raw/results.csv\")"
   ]
  },
  {
   "attachments": {},
   "cell_type": "markdown",
   "metadata": {},
   "source": [
    "<font size = \"5\">\n",
    "\n",
    "The dataset \"codebook\" is a table with ...\n",
    "\n",
    "- Key column information\n",
    "- Main things:  Field, Type, Key, and Description\n",
    "\n",
    "<img src=\"figures/codebook_races.png\" alt=\"drawing\" width=\"600\"/>\n"
   ]
  },
  {
   "cell_type": "code",
   "execution_count": null,
   "metadata": {},
   "outputs": [],
   "source": [
    "# The codebook contains basic about the columns\n",
    "# \"Field\" is the name given to the name of the column\n",
    "# \"Type\"  is the variable type:\n",
    "#         integer (int)\n",
    "#         string (varchar - \"variable character\")\n",
    "#         float (float)\n",
    "#         The number in parenthesis is the maximum number of characters/digits\n",
    "#         For most purposes we can ignore the numbers in parentheses.\n",
    "# \"Key\" denotes whether this is the primary key \"PRI\" (also known as the identifier)\n",
    "#         This is a column with unique values, that uniquely identifies each row\n",
    "# \"Description\" contains a label with the content of the variable"
   ]
  },
  {
   "attachments": {},
   "cell_type": "markdown",
   "metadata": {},
   "source": [
    "<font size = \"5\">\n",
    "\n",
    "Get column names + types\n",
    "\n",
    "- Do types match the codebook?\n",
    "- If not the data may need to be cleaned"
   ]
  },
  {
   "cell_type": "code",
   "execution_count": 3,
   "metadata": {},
   "outputs": [
    {
     "data": {
      "text/plain": [
       "resultId             int64\n",
       "raceId               int64\n",
       "driverId             int64\n",
       "constructorId        int64\n",
       "number              object\n",
       "grid                 int64\n",
       "position            object\n",
       "positionText        object\n",
       "positionOrder        int64\n",
       "points             float64\n",
       "laps                 int64\n",
       "time                object\n",
       "milliseconds        object\n",
       "fastestLap          object\n",
       "rank                object\n",
       "fastestLapTime      object\n",
       "fastestLapSpeed     object\n",
       "statusId             int64\n",
       "dtype: object"
      ]
     },
     "execution_count": 3,
     "metadata": {},
     "output_type": "execute_result"
    }
   ],
   "source": [
    "# This code displays column types\n",
    "# \"int\" or \"float\" objects are numneric\n",
    "# \"object\" typically denotes strings\n",
    "# If a column that's supposed to be \"numeric\" but appears as \"object\"\n",
    "# then it needs to be cleaned and converted to numeric \n",
    "\n",
    "results.dtypes\n"
   ]
  },
  {
   "attachments": {},
   "cell_type": "markdown",
   "metadata": {},
   "source": [
    "<font size = \"5\">\n",
    "\n",
    "Try it yourself!\n",
    "\n",
    "- How many rows does the dataset have?\n",
    "- How many unique values are there for the columns <br>\n",
    "$\\qquad$ \"resultId\"? <br>\n",
    "$\\qquad$ \"raceId\"? <br>\n",
    "$\\qquad$ \"driverId\"? <br>\n",
    "\n",
    "HINT: Use the \"len()\" and the \"pd.unique()\" functions"
   ]
  },
  {
   "cell_type": "code",
   "execution_count": 5,
   "metadata": {},
   "outputs": [
    {
     "name": "stdout",
     "output_type": "stream",
     "text": [
      "25840\n",
      "25840\n",
      "1079\n",
      "855\n"
     ]
    }
   ],
   "source": [
    "# Write your own code here\n",
    "\n",
    "print(len(results))\n",
    "print(len(pd.unique(results[\"resultId\"])))\n",
    "print(len(pd.unique(results[\"raceId\"])))\n",
    "print(len(pd.unique(results[\"driverId\"])))\n"
   ]
  },
  {
   "attachments": {},
   "cell_type": "markdown",
   "metadata": {},
   "source": [
    "# <span style=\"color:darkblue\"> II. Aggregate + groupby  </span>\n",
    "\n"
   ]
  },
  {
   "attachments": {},
   "cell_type": "markdown",
   "metadata": {},
   "source": [
    "<font size = \"5\">\n",
    "\n",
    "Splitting code into multiple lines\n",
    "\n",
    "- Makes it easier to read\n",
    "- Simply wrap the code in round parentheses \"()\""
   ]
  },
  {
   "cell_type": "code",
   "execution_count": null,
   "metadata": {},
   "outputs": [],
   "source": [
    "# The following code computes descriptive statistics for points \n",
    "# Wrapping the code in parentheses \"()\" allows you to split it into multiple \n",
    "# lines. It's considered good practice to make each line less than 80 characters\n",
    "# This makes it easier to scroll up and down without going sideways.\n",
    "\n",
    "descriptives_singleline = results[\"points\"].describe()\n",
    "descriptives_multiline = (results[\"points\"]\n",
    "                          .describe())"
   ]
  },
  {
   "attachments": {},
   "cell_type": "markdown",
   "metadata": {},
   "source": [
    "<font size = \"5\">\n",
    "\n",
    "Aggregate statistics "
   ]
  },
  {
   "cell_type": "code",
   "execution_count": 6,
   "metadata": {},
   "outputs": [
    {
     "data": {
      "text/html": [
       "<div>\n",
       "<style scoped>\n",
       "    .dataframe tbody tr th:only-of-type {\n",
       "        vertical-align: middle;\n",
       "    }\n",
       "\n",
       "    .dataframe tbody tr th {\n",
       "        vertical-align: top;\n",
       "    }\n",
       "\n",
       "    .dataframe thead th {\n",
       "        text-align: right;\n",
       "    }\n",
       "</style>\n",
       "<table border=\"1\" class=\"dataframe\">\n",
       "  <thead>\n",
       "    <tr style=\"text-align: right;\">\n",
       "      <th></th>\n",
       "      <th>points</th>\n",
       "    </tr>\n",
       "  </thead>\n",
       "  <tbody>\n",
       "    <tr>\n",
       "      <th>mean_points</th>\n",
       "      <td>1.877053</td>\n",
       "    </tr>\n",
       "    <tr>\n",
       "      <th>sd_points</th>\n",
       "      <td>4.169849</td>\n",
       "    </tr>\n",
       "    <tr>\n",
       "      <th>min_points</th>\n",
       "      <td>0.000000</td>\n",
       "    </tr>\n",
       "    <tr>\n",
       "      <th>max_points</th>\n",
       "      <td>50.000000</td>\n",
       "    </tr>\n",
       "    <tr>\n",
       "      <th>count_obs</th>\n",
       "      <td>25840.000000</td>\n",
       "    </tr>\n",
       "  </tbody>\n",
       "</table>\n",
       "</div>"
      ],
      "text/plain": [
       "                   points\n",
       "mean_points      1.877053\n",
       "sd_points        4.169849\n",
       "min_points       0.000000\n",
       "max_points      50.000000\n",
       "count_obs    25840.000000"
      ]
     },
     "metadata": {},
     "output_type": "display_data"
    }
   ],
   "source": [
    "# The \".agg()\" subfunction computes aggregate statistics\n",
    "# The syntax is (\"column_name\",\"function_name\")\n",
    "# The first argument is the column name\n",
    "# The second argument is the function_name\n",
    "# The command works with single quotations '...' or double \"...\"\n",
    "\n",
    "results_agg = results.agg(mean_points = ('points','mean'),\n",
    "                          sd_points =   ('points','std'),\n",
    "                          min_points =  ('points','min'),\n",
    "                          max_points =  ('points','max'),\n",
    "                          count_obs   = ('points',len))\n",
    "\n",
    "display(results_agg)"
   ]
  },
  {
   "attachments": {},
   "cell_type": "markdown",
   "metadata": {},
   "source": [
    "<font size = \"5\" >\n",
    "\n",
    "Groupby + Aggregate statistics\n",
    "\n",
    "<img src=\"figures/agg.png\" alt=\"drawing\" width=\"400\"/>"
   ]
  },
  {
   "cell_type": "code",
   "execution_count": 8,
   "metadata": {},
   "outputs": [
    {
     "data": {
      "text/plain": [
       "855"
      ]
     },
     "execution_count": 8,
     "metadata": {},
     "output_type": "execute_result"
    }
   ],
   "source": [
    "# In this cases drivers engage in multiple car races\n",
    "# We can compute the aggregate statistics for each specific driver across\n",
    "# multiple car races\n",
    "\n",
    "drivers_agg = (results.groupby(\"driverId\")\n",
    "                      .agg(mean_points = ('points','mean'),\n",
    "                           sd_points =   ('points','std'),\n",
    "                           min_points =  ('points','min'),\n",
    "                           max_points =  ('points','max'),\n",
    "                           count_obs   = ('points',len)))\n",
    "\n",
    "len(drivers_agg)"
   ]
  },
  {
   "attachments": {},
   "cell_type": "markdown",
   "metadata": {},
   "source": [
    "<font size = \"5\" >\n",
    "Groupby + Aggregate statistics (multigroup)"
   ]
  },
  {
   "cell_type": "code",
   "execution_count": 10,
   "metadata": {},
   "outputs": [
    {
     "data": {
      "text/plain": [
       "12568"
      ]
     },
     "execution_count": 10,
     "metadata": {},
     "output_type": "execute_result"
    }
   ],
   "source": [
    "# We can aggregate statistics from multiple columns by\n",
    "# entering a list of column names in \"groupby\"\n",
    "# In this case \"constructor\" in this case denotes the team \n",
    "# The following computes aggregate point stats for each (team, race) combination\n",
    "\n",
    "teamrace_agg = (results.groupby([\"raceId\",\"constructorId\"])\n",
    "                       .agg(mean_points = ('points','mean'),\n",
    "                            sd_points =   ('points','std'),\n",
    "                            min_points =  ('points','min'),\n",
    "                            max_points =  ('points','max'),\n",
    "                            count_obs   = ('points',len)))\n",
    "\n",
    "len(teamrace_agg)"
   ]
  },
  {
   "attachments": {},
   "cell_type": "markdown",
   "metadata": {},
   "source": [
    "<font size = \"5\">\n",
    "\n",
    "Filtering + Grouping + Aggregating: <br>\n",
    "\n",
    "```python \n",
    ".query().groupby().agg()\n",
    "```\n",
    "\n",
    "- This sequential syntax is known as \"chaining\"\n"
   ]
  },
  {
   "cell_type": "code",
   "execution_count": 11,
   "metadata": {},
   "outputs": [],
   "source": [
    "# The following gets a subset of the data using .query()\n",
    "# In this case we subset the data before computing aggregate statistics\n",
    "# Note: \"filtering\" is often the word used to obtain a subset\n",
    "\n",
    "teamrace_agg = (results.query(\"raceId >= 500\")\n",
    "                       .groupby([\"raceId\",\"constructorId\"])\n",
    "                        .agg(mean_points = ('points','mean'),\n",
    "                             sd_points =   ('points','std'),\n",
    "                             min_points =  ('points','min'),\n",
    "                             max_points =  ('points','max'),\n",
    "                             count_obs   = ('points',len)))\n"
   ]
  },
  {
   "attachments": {},
   "cell_type": "markdown",
   "metadata": {},
   "source": [
    "<font size = \"5\">\n",
    "\n",
    "Try it yourself!\n",
    "\n",
    "- Create a new dataset by chaining that <br>\n",
    "groups by \"raceId\" then computes the <br>\n",
    "aggregate statistics: \"points\" average <br> and \"laps\" average\n"
   ]
  },
  {
   "cell_type": "code",
   "execution_count": 13,
   "metadata": {},
   "outputs": [
    {
     "data": {
      "text/plain": [
       "1079"
      ]
     },
     "execution_count": 13,
     "metadata": {},
     "output_type": "execute_result"
    }
   ],
   "source": [
    "# Write your own code\n",
    "\n",
    "pointslaps_agg = (results.groupby(\"raceId\")\n",
    "                         .agg(mean_points = (\"points\",\"mean\"),\n",
    "                              mean_laps = (\"laps\",\"mean\")))\n",
    "\n",
    "len(pointslaps_agg)"
   ]
  },
  {
   "attachments": {},
   "cell_type": "markdown",
   "metadata": {},
   "source": [
    "<font size = \"5\">\n",
    "\n",
    "Try it yourself!\n",
    "\n",
    "- Create a new dataset by chaining that <br>\n",
    "groups by \"constructorId\" (the team) then <br> \n",
    "computes the average number of \"points\"\n",
    "- Add a chain \".sort_values(...,ascending = False)\" <br>\n",
    "to sort by team points in desceding order\n"
   ]
  },
  {
   "cell_type": "code",
   "execution_count": 18,
   "metadata": {},
   "outputs": [
    {
     "data": {
      "text/html": [
       "<div>\n",
       "<style scoped>\n",
       "    .dataframe tbody tr th:only-of-type {\n",
       "        vertical-align: middle;\n",
       "    }\n",
       "\n",
       "    .dataframe tbody tr th {\n",
       "        vertical-align: top;\n",
       "    }\n",
       "\n",
       "    .dataframe thead th {\n",
       "        text-align: right;\n",
       "    }\n",
       "</style>\n",
       "<table border=\"1\" class=\"dataframe\">\n",
       "  <thead>\n",
       "    <tr style=\"text-align: right;\">\n",
       "      <th></th>\n",
       "      <th>mean_points</th>\n",
       "    </tr>\n",
       "    <tr>\n",
       "      <th>constructorId</th>\n",
       "      <th></th>\n",
       "    </tr>\n",
       "  </thead>\n",
       "  <tbody>\n",
       "    <tr>\n",
       "      <th>131</th>\n",
       "      <td>12.363643</td>\n",
       "    </tr>\n",
       "    <tr>\n",
       "      <th>9</th>\n",
       "      <td>9.117816</td>\n",
       "    </tr>\n",
       "    <tr>\n",
       "      <th>23</th>\n",
       "      <td>5.058824</td>\n",
       "    </tr>\n",
       "    <tr>\n",
       "      <th>208</th>\n",
       "      <td>4.584416</td>\n",
       "    </tr>\n",
       "    <tr>\n",
       "      <th>6</th>\n",
       "      <td>4.317968</td>\n",
       "    </tr>\n",
       "    <tr>\n",
       "      <th>...</th>\n",
       "      <td>...</td>\n",
       "    </tr>\n",
       "    <tr>\n",
       "      <th>76</th>\n",
       "      <td>0.000000</td>\n",
       "    </tr>\n",
       "    <tr>\n",
       "      <th>77</th>\n",
       "      <td>0.000000</td>\n",
       "    </tr>\n",
       "    <tr>\n",
       "      <th>78</th>\n",
       "      <td>0.000000</td>\n",
       "    </tr>\n",
       "    <tr>\n",
       "      <th>130</th>\n",
       "      <td>0.000000</td>\n",
       "    </tr>\n",
       "    <tr>\n",
       "      <th>112</th>\n",
       "      <td>0.000000</td>\n",
       "    </tr>\n",
       "  </tbody>\n",
       "</table>\n",
       "<p>210 rows × 1 columns</p>\n",
       "</div>"
      ],
      "text/plain": [
       "               mean_points\n",
       "constructorId             \n",
       "131              12.363643\n",
       "9                 9.117816\n",
       "23                5.058824\n",
       "208               4.584416\n",
       "6                 4.317968\n",
       "...                    ...\n",
       "76                0.000000\n",
       "77                0.000000\n",
       "78                0.000000\n",
       "130               0.000000\n",
       "112               0.000000\n",
       "\n",
       "[210 rows x 1 columns]"
      ]
     },
     "execution_count": 18,
     "metadata": {},
     "output_type": "execute_result"
    }
   ],
   "source": [
    "# Write your own code\n",
    "\n",
    "constructor_agg = (results.groupby(\"constructorId\")\n",
    "                          .agg(mean_points = (\"points\",\"mean\"))\n",
    "                          .sort_values(\"mean_points\",ascending = False))\n",
    "\n",
    "\n",
    "constructor_agg\n"
   ]
  },
  {
   "attachments": {},
   "cell_type": "markdown",
   "metadata": {},
   "source": [
    "# <span style=\"color:darkblue\"> III. Relative statistics within group </span>\n",
    "\n"
   ]
  },
  {
   "attachments": {},
   "cell_type": "markdown",
   "metadata": {},
   "source": [
    "<font size = \"5\">\n",
    "\n",
    "Merging\n",
    "\n",
    "<img src=\"figures/merge_stats.png\" alt=\"drawing\" width=\"600\"/>\n"
   ]
  },
  {
   "cell_type": "code",
   "execution_count": 19,
   "metadata": {},
   "outputs": [],
   "source": [
    "# This command merges the \"aggregate\" information in \"driver_agg\" into\n",
    "# \"results\" as shown in the figure\n",
    "# The merging variable \"on\" is determined by \"driverId\", which is a column\n",
    "# that is common to both datasets\n",
    "# \"how = left\" indicates that the left dataset is the baseline\n",
    "#\n",
    "# Note: For this method to work well \"driverId\" needs to contain unique alues\n",
    "# in \"drivers_agg\". If not you may need to clean the data beforehand\n",
    "\n",
    "results_merge = pd.merge(results,\n",
    "                         drivers_agg,\n",
    "                         on = \"driverId\",\n",
    "                         how = \"left\")\n",
    "\n"
   ]
  },
  {
   "attachments": {},
   "cell_type": "markdown",
   "metadata": {},
   "source": [
    "<font size = \"5\">\n",
    "\n",
    "Check out another approach to compute <br>\n",
    "aggregate statistics using ``` .transform() ```<br>\n",
    " in the optional lecture!"
   ]
  },
  {
   "attachments": {},
   "cell_type": "markdown",
   "metadata": {},
   "source": [
    "<font size = \"5\">\n",
    "\n",
    "Try it yourself!\n",
    "\n",
    "- Compute a scatter plot with ...\n",
    "- \"points\" (y-axis) vs \"mean_points\" (x-axis)\n",
    "\n",
    "Note: This plots tells you how much a driver's <br>\n",
    "performance on individual races deviates from <br>\n",
    "their overall average"
   ]
  },
  {
   "cell_type": "code",
   "execution_count": 21,
   "metadata": {},
   "outputs": [
    {
     "data": {
      "text/plain": [
       "Text(0.5, 0, 'Average points per driver')"
      ]
     },
     "execution_count": 21,
     "metadata": {},
     "output_type": "execute_result"
    },
    {
     "data": {
      "image/png": "[encoded data removed]",
      "text/plain": [
       "<Figure size 640x480 with 1 Axes>"
      ]
     },
     "metadata": {},
     "output_type": "display_data"
    }
   ],
   "source": [
    "# Write your own code\n",
    "\n",
    "plt.scatter(x = results_merge[\"mean_points\"],y = results_merge[\"points\"])\n",
    "plt.ylabel(\"Points\")\n",
    "plt.xlabel(\"Average points per driver\")"
   ]
  },
  {
   "attachments": {},
   "cell_type": "markdown",
   "metadata": {},
   "source": [
    "<font size = \"5\">\n",
    "\n",
    "Try it yourself!\n",
    "\n",
    "- Merge the \"teamrace_agg\" data into \"results\"\n",
    "- This time use the option:\n",
    "\n",
    "$\\qquad$ ```on = [\"raceId\",\"constructorId\"]```"
   ]
  },
  {
   "cell_type": "code",
   "execution_count": 22,
   "metadata": {},
   "outputs": [],
   "source": [
    "# Write your own code\n",
    "\n",
    "results_merge_teamrace = pd.merge(results,\n",
    "                                  teamrace_agg,\n",
    "                                  on = [\"raceId\",\"constructorId\"],\n",
    "                         how = \"left\")\n",
    "\n"
   ]
  }
 ],
 "metadata": {
  "kernelspec": {
   "display_name": "base",
   "language": "python",
   "name": "python3"
  },
  "language_info": {
   "codemirror_mode": {
    "name": "ipython",
    "version": 3
   },
   "file_extension": ".py",
   "mimetype": "text/x-python",
   "name": "python",
   "nbconvert_exporter": "python",
   "pygments_lexer": "ipython3",
   "version": "3.9.13"
  },
  "orig_nbformat": 4,
  "vscode": {
   "interpreter": {
    "hash": "45fc1f684f6f416f40889115beff3ddf69879b64cf4bfee48cb72a61e9d15d1a"
   }
  }
 },
 "nbformat": 4,
 "nbformat_minor": 2
}
